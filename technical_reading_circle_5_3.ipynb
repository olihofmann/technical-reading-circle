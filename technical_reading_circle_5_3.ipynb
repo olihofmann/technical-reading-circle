{
 "cells": [
  {
   "metadata": {},
   "cell_type": "markdown",
   "source": [
    "### 5.3 Categorical variables\n",
    "\n",
    "A common question for statistical methods is to what extent an outcome changes as a result of presence or absence of a category. A category here means discrete and unordered.\n",
    "\n",
    "* Sex: male, female\n",
    "* Developmental status: infant, juvenile, adult\n",
    "* Geographic region: Africa, Europe, Melanesia\n",
    "\n",
    "\n",
    "Some of them are **apes**, while others are **New World monkeys**."
   ],
   "id": "6a6b3b693f4c1a5e"
  },
  {
   "metadata": {
    "ExecuteTime": {
     "end_time": "2024-11-20T06:47:53.742588Z",
     "start_time": "2024-11-20T06:47:52.160416Z"
    }
   },
   "cell_type": "code",
   "outputs": [
    {
     "name": "stderr",
     "output_type": "stream",
     "text": [
      "WARNING (pytensor.configdefaults): g++ not available, if using conda: `conda install m2w64-toolchain`\n",
      "WARNING (pytensor.configdefaults): g++ not detected!  PyTensor will be unable to compile C-implementations and will default to Python. Performance may be severely degraded. To remove this warning, set PyTensor flags cxx to an empty string.\n",
      "WARNING (pytensor.tensor.blas): Using NumPy C-API based implementation for BLAS functions.\n"
     ]
    }
   ],
   "execution_count": 2,
   "source": [
    "import pandas as pd\n",
    "import numpy as np\n",
    "import arviz as az\n",
    "import pymc as pm\n",
    "\n",
    "from scipy import stats\n",
    "import matplotlib.pyplot as plt"
   ],
   "id": "30972c544927143a"
  },
  {
   "metadata": {},
   "cell_type": "markdown",
   "source": "### Binary categories",
   "id": "af8de6b3785724df"
  },
  {
   "metadata": {
    "ExecuteTime": {
     "end_time": "2024-11-20T06:47:56.589106Z",
     "start_time": "2024-11-20T06:47:56.538551Z"
    }
   },
   "cell_type": "code",
   "source": [
    "df_howell = pd.read_csv(\"Howell1.csv\", delimiter=\";\")\n",
    "df_howell.head()"
   ],
   "id": "d2439694aa88b8ec",
   "outputs": [
    {
     "data": {
      "text/plain": [
       "    height     weight   age  male\n",
       "0  151.765  47.825606  63.0     1\n",
       "1  139.700  36.485807  63.0     0\n",
       "2  136.525  31.864838  65.0     0\n",
       "3  156.845  53.041914  41.0     1\n",
       "4  145.415  41.276872  51.0     0"
      ],
      "text/html": [
       "<div>\n",
       "<style scoped>\n",
       "    .dataframe tbody tr th:only-of-type {\n",
       "        vertical-align: middle;\n",
       "    }\n",
       "\n",
       "    .dataframe tbody tr th {\n",
       "        vertical-align: top;\n",
       "    }\n",
       "\n",
       "    .dataframe thead th {\n",
       "        text-align: right;\n",
       "    }\n",
       "</style>\n",
       "<table border=\"1\" class=\"dataframe\">\n",
       "  <thead>\n",
       "    <tr style=\"text-align: right;\">\n",
       "      <th></th>\n",
       "      <th>height</th>\n",
       "      <th>weight</th>\n",
       "      <th>age</th>\n",
       "      <th>male</th>\n",
       "    </tr>\n",
       "  </thead>\n",
       "  <tbody>\n",
       "    <tr>\n",
       "      <th>0</th>\n",
       "      <td>151.765</td>\n",
       "      <td>47.825606</td>\n",
       "      <td>63.0</td>\n",
       "      <td>1</td>\n",
       "    </tr>\n",
       "    <tr>\n",
       "      <th>1</th>\n",
       "      <td>139.700</td>\n",
       "      <td>36.485807</td>\n",
       "      <td>63.0</td>\n",
       "      <td>0</td>\n",
       "    </tr>\n",
       "    <tr>\n",
       "      <th>2</th>\n",
       "      <td>136.525</td>\n",
       "      <td>31.864838</td>\n",
       "      <td>65.0</td>\n",
       "      <td>0</td>\n",
       "    </tr>\n",
       "    <tr>\n",
       "      <th>3</th>\n",
       "      <td>156.845</td>\n",
       "      <td>53.041914</td>\n",
       "      <td>41.0</td>\n",
       "      <td>1</td>\n",
       "    </tr>\n",
       "    <tr>\n",
       "      <th>4</th>\n",
       "      <td>145.415</td>\n",
       "      <td>41.276872</td>\n",
       "      <td>51.0</td>\n",
       "      <td>0</td>\n",
       "    </tr>\n",
       "  </tbody>\n",
       "</table>\n",
       "</div>"
      ]
     },
     "execution_count": 3,
     "metadata": {},
     "output_type": "execute_result"
    }
   ],
   "execution_count": 3
  },
  {
   "metadata": {
    "ExecuteTime": {
     "end_time": "2024-11-20T06:48:00.081089Z",
     "start_time": "2024-11-20T06:48:00.060325Z"
    }
   },
   "cell_type": "code",
   "source": "df_howell.info()",
   "id": "b2e5578529093a4f",
   "outputs": [
    {
     "name": "stdout",
     "output_type": "stream",
     "text": [
      "<class 'pandas.core.frame.DataFrame'>\n",
      "RangeIndex: 544 entries, 0 to 543\n",
      "Data columns (total 4 columns):\n",
      " #   Column  Non-Null Count  Dtype  \n",
      "---  ------  --------------  -----  \n",
      " 0   height  544 non-null    float64\n",
      " 1   weight  544 non-null    float64\n",
      " 2   age     544 non-null    float64\n",
      " 3   male    544 non-null    int64  \n",
      "dtypes: float64(3), int64(1)\n",
      "memory usage: 17.1 KB\n"
     ]
    }
   ],
   "execution_count": 4
  },
  {
   "metadata": {},
   "cell_type": "markdown",
   "source": [
    "- The male variable is our new predictor, an example of a **indicator variable**. Indicator variables—sometimes also called “dummy” variables—are devices for encoding unordered categories into quantitative models\n",
    "- So it takes the value 1 whenever the person is male, but it takes the value 0 when the person belongs to any other category."
   ],
   "id": "c1eedb88412991c0"
  },
  {
   "metadata": {
    "ExecuteTime": {
     "end_time": "2024-11-20T06:48:02.671770Z",
     "start_time": "2024-11-20T06:48:02.662467Z"
    }
   },
   "cell_type": "code",
   "source": "sex = df_howell[\"male\"].values",
   "id": "c56ac78b544ee4a0",
   "outputs": [],
   "execution_count": 5
  },
  {
   "metadata": {},
   "cell_type": "markdown",
   "source": [
    "### Simulate the priors\n",
    "\n",
    "* The parameter βm influences prediction only for those cases where m = 1. When m = 0, it has no effect on prediction\n",
    "* Using this approach means that βm represents the expected difference between males and females in height."
   ],
   "id": "7b8dd37f99d9ced6"
  },
  {
   "metadata": {
    "ExecuteTime": {
     "end_time": "2024-11-20T06:48:05.092926Z",
     "start_time": "2024-11-20T06:48:05.074090Z"
    }
   },
   "cell_type": "code",
   "source": [
    "# Generate random samples for mu_female and mu_male\n",
    "mu_female = np.random.normal(178, 20, 10000)\n",
    "mu_male = np.random.normal(178, 20, 10000) + np.random.normal(0, 10, 10000)\n",
    "\n",
    "# Create a DataFrame\n",
    "data = pd.DataFrame({'mu_female': mu_female, 'mu_male': mu_male})\n",
    "\n",
    "# Summary statistics (similar to precis in R)\n",
    "summary = data.describe(percentiles=[0.025, 0.5, 0.975])\n",
    "summary"
   ],
   "id": "1616211b6ac2c864",
   "outputs": [
    {
     "data": {
      "text/plain": [
       "          mu_female       mu_male\n",
       "count  10000.000000  10000.000000\n",
       "mean     178.256608    178.117779\n",
       "std       20.127976     22.303922\n",
       "min      109.522548    102.516702\n",
       "2.5%     138.714325    134.233494\n",
       "50%      178.365633    178.086921\n",
       "97.5%    217.676009    222.261503\n",
       "max      251.105749    259.596960"
      ],
      "text/html": [
       "<div>\n",
       "<style scoped>\n",
       "    .dataframe tbody tr th:only-of-type {\n",
       "        vertical-align: middle;\n",
       "    }\n",
       "\n",
       "    .dataframe tbody tr th {\n",
       "        vertical-align: top;\n",
       "    }\n",
       "\n",
       "    .dataframe thead th {\n",
       "        text-align: right;\n",
       "    }\n",
       "</style>\n",
       "<table border=\"1\" class=\"dataframe\">\n",
       "  <thead>\n",
       "    <tr style=\"text-align: right;\">\n",
       "      <th></th>\n",
       "      <th>mu_female</th>\n",
       "      <th>mu_male</th>\n",
       "    </tr>\n",
       "  </thead>\n",
       "  <tbody>\n",
       "    <tr>\n",
       "      <th>count</th>\n",
       "      <td>10000.000000</td>\n",
       "      <td>10000.000000</td>\n",
       "    </tr>\n",
       "    <tr>\n",
       "      <th>mean</th>\n",
       "      <td>178.256608</td>\n",
       "      <td>178.117779</td>\n",
       "    </tr>\n",
       "    <tr>\n",
       "      <th>std</th>\n",
       "      <td>20.127976</td>\n",
       "      <td>22.303922</td>\n",
       "    </tr>\n",
       "    <tr>\n",
       "      <th>min</th>\n",
       "      <td>109.522548</td>\n",
       "      <td>102.516702</td>\n",
       "    </tr>\n",
       "    <tr>\n",
       "      <th>2.5%</th>\n",
       "      <td>138.714325</td>\n",
       "      <td>134.233494</td>\n",
       "    </tr>\n",
       "    <tr>\n",
       "      <th>50%</th>\n",
       "      <td>178.365633</td>\n",
       "      <td>178.086921</td>\n",
       "    </tr>\n",
       "    <tr>\n",
       "      <th>97.5%</th>\n",
       "      <td>217.676009</td>\n",
       "      <td>222.261503</td>\n",
       "    </tr>\n",
       "    <tr>\n",
       "      <th>max</th>\n",
       "      <td>251.105749</td>\n",
       "      <td>259.596960</td>\n",
       "    </tr>\n",
       "  </tbody>\n",
       "</table>\n",
       "</div>"
      ]
     },
     "execution_count": 6,
     "metadata": {},
     "output_type": "execute_result"
    }
   ],
   "execution_count": 6
  },
  {
   "metadata": {},
   "cell_type": "markdown",
   "source": "The prior for males is wider, because it uses both parameters. While in a regression this simple, these priors will wash out very quickly, in general we should be careful.",
   "id": "78ab28af38de4643"
  },
  {
   "metadata": {},
   "cell_type": "markdown",
   "source": "### Model with Index Variable for sex",
   "id": "8db39c1cedd86fd0"
  },
  {
   "metadata": {
    "ExecuteTime": {
     "end_time": "2024-11-20T06:48:09.608121Z",
     "start_time": "2024-11-20T06:48:09.601472Z"
    }
   },
   "cell_type": "code",
   "source": [
    "# Assuming 'd' is a pandas DataFrame\n",
    "# Add a new column 'sex' based on the 'male' column\n",
    "df_howell[\"sex\"] = np.where(df_howell[\"male\"] == 1, 2, 1)\n",
    "\n",
    "# Check the structure of the new 'sex' column\n",
    "print(df_howell[\"sex\"].dtype)  # Display the data type of the column\n",
    "df_howell[\"sex\"].head()  # Show the first few values of the column\n"
   ],
   "id": "23c4a50b25e3e06d",
   "outputs": [
    {
     "name": "stdout",
     "output_type": "stream",
     "text": [
      "int32\n"
     ]
    },
    {
     "data": {
      "text/plain": [
       "0    2\n",
       "1    1\n",
       "2    1\n",
       "3    2\n",
       "4    1\n",
       "Name: sex, dtype: int32"
      ]
     },
     "execution_count": 7,
     "metadata": {},
     "output_type": "execute_result"
    }
   ],
   "execution_count": 7
  },
  {
   "metadata": {},
   "cell_type": "markdown",
   "source": "Now “1” means female and “2” means male.",
   "id": "323459a79ad3da99"
  },
  {
   "metadata": {
    "ExecuteTime": {
     "end_time": "2024-11-20T07:02:38.051542Z",
     "start_time": "2024-11-20T06:48:15.731182Z"
    }
   },
   "cell_type": "code",
   "source": [
    "# Assuming 'd' is a pandas DataFrame with 'height' and 'sex'\n",
    "# Normalize 'sex' to start from 0 for PyMC indexing\n",
    "df_howell[\"sex\"] = df_howell[\"sex\"] - 1  # Convert to 0 and 1 for PyMC indexing\n",
    "\n",
    "with pm.Model() as model_m5_8:\n",
    "    # Priors\n",
    "    a = pm.Normal(\"a\", mu=178, sigma=20, shape=2)  # Group-specific intercepts for sex\n",
    "    sigma = pm.Uniform(\"sigma\", lower=0, upper=50)  # Prior for standard deviation\n",
    "    \n",
    "    # Likelihood\n",
    "    mu = a[df_howell[\"sex\"]]  # Use 'sex' to index the group-specific intercepts\n",
    "    height = pm.Normal(\"height\", mu=mu, sigma=sigma, observed=df_howell[\"height\"])\n",
    "    \n",
    "    # Inference\n",
    "    trace_m5_8 = pm.sample(1000, return_inferencedata=True)\n",
    "\n",
    "# Summary of the model\n",
    "summary = az.summary(trace_m5_8, var_names=[\"a\", \"sigma\"], round_to=2)\n",
    "summary"
   ],
   "id": "2d80702e33b99231",
   "outputs": [
    {
     "name": "stderr",
     "output_type": "stream",
     "text": [
      "Auto-assigning NUTS sampler...\n",
      "Initializing NUTS using jitter+adapt_diag...\n",
      "Multiprocess sampling (4 chains in 4 jobs)\n",
      "NUTS: [a, sigma]\n"
     ]
    },
    {
     "data": {
      "text/plain": [
       "C:\\git\\sagemaker_job_tracking\\.venv\\Lib\\site-packages\\rich\\live.py:231: UserWarning: install \"ipywidgets\" for \n",
       "Jupyter support\n",
       "  warnings.warn('install \"ipywidgets\" for Jupyter support')\n"
      ],
      "text/html": [
       "<pre style=\"white-space:pre;overflow-x:auto;line-height:normal;font-family:Menlo,'DejaVu Sans Mono',consolas,'Courier New',monospace\">C:\\git\\sagemaker_job_tracking\\.venv\\Lib\\site-packages\\rich\\live.py:231: UserWarning: install \"ipywidgets\" for \n",
       "Jupyter support\n",
       "  warnings.warn('install \"ipywidgets\" for Jupyter support')\n",
       "</pre>\n"
      ]
     },
     "metadata": {},
     "output_type": "display_data"
    },
    {
     "data": {
      "text/plain": [],
      "text/html": [
       "<pre style=\"white-space:pre;overflow-x:auto;line-height:normal;font-family:Menlo,'DejaVu Sans Mono',consolas,'Courier New',monospace\"></pre>\n"
      ]
     },
     "metadata": {},
     "output_type": "display_data"
    },
    {
     "name": "stderr",
     "output_type": "stream",
     "text": [
      "Sampling 3 chains for 1_000 tune and 174 draw iterations (3_000 + 522 draws total) took 858 seconds.\n",
      "We recommend running at least 4 chains for robust computation of convergence diagnostics\n"
     ]
    },
    {
     "data": {
      "text/plain": [
       "         mean    sd  hdi_3%  hdi_97%  mcse_mean  mcse_sd  ess_bulk  ess_tail  \\\n",
       "a[0]   134.87  1.64  131.86   137.84       0.06     0.04    759.23    351.82   \n",
       "a[1]   142.59  1.80  138.79   145.95       0.06     0.04    945.07    460.40   \n",
       "sigma   27.40  0.80   25.99    28.94       0.03     0.02    677.43    318.84   \n",
       "\n",
       "       r_hat  \n",
       "a[0]     1.0  \n",
       "a[1]     1.0  \n",
       "sigma    1.0  "
      ],
      "text/html": [
       "<div>\n",
       "<style scoped>\n",
       "    .dataframe tbody tr th:only-of-type {\n",
       "        vertical-align: middle;\n",
       "    }\n",
       "\n",
       "    .dataframe tbody tr th {\n",
       "        vertical-align: top;\n",
       "    }\n",
       "\n",
       "    .dataframe thead th {\n",
       "        text-align: right;\n",
       "    }\n",
       "</style>\n",
       "<table border=\"1\" class=\"dataframe\">\n",
       "  <thead>\n",
       "    <tr style=\"text-align: right;\">\n",
       "      <th></th>\n",
       "      <th>mean</th>\n",
       "      <th>sd</th>\n",
       "      <th>hdi_3%</th>\n",
       "      <th>hdi_97%</th>\n",
       "      <th>mcse_mean</th>\n",
       "      <th>mcse_sd</th>\n",
       "      <th>ess_bulk</th>\n",
       "      <th>ess_tail</th>\n",
       "      <th>r_hat</th>\n",
       "    </tr>\n",
       "  </thead>\n",
       "  <tbody>\n",
       "    <tr>\n",
       "      <th>a[0]</th>\n",
       "      <td>134.87</td>\n",
       "      <td>1.64</td>\n",
       "      <td>131.86</td>\n",
       "      <td>137.84</td>\n",
       "      <td>0.06</td>\n",
       "      <td>0.04</td>\n",
       "      <td>759.23</td>\n",
       "      <td>351.82</td>\n",
       "      <td>1.0</td>\n",
       "    </tr>\n",
       "    <tr>\n",
       "      <th>a[1]</th>\n",
       "      <td>142.59</td>\n",
       "      <td>1.80</td>\n",
       "      <td>138.79</td>\n",
       "      <td>145.95</td>\n",
       "      <td>0.06</td>\n",
       "      <td>0.04</td>\n",
       "      <td>945.07</td>\n",
       "      <td>460.40</td>\n",
       "      <td>1.0</td>\n",
       "    </tr>\n",
       "    <tr>\n",
       "      <th>sigma</th>\n",
       "      <td>27.40</td>\n",
       "      <td>0.80</td>\n",
       "      <td>25.99</td>\n",
       "      <td>28.94</td>\n",
       "      <td>0.03</td>\n",
       "      <td>0.02</td>\n",
       "      <td>677.43</td>\n",
       "      <td>318.84</td>\n",
       "      <td>1.0</td>\n",
       "    </tr>\n",
       "  </tbody>\n",
       "</table>\n",
       "</div>"
      ]
     },
     "execution_count": 8,
     "metadata": {},
     "output_type": "execute_result"
    }
   ],
   "execution_count": 8
  },
  {
   "metadata": {},
   "cell_type": "markdown",
   "source": "Interpreting these parameters is easy enough—they are the expected heights in each category.",
   "id": "1c9dc372712eeb9c"
  },
  {
   "metadata": {
    "ExecuteTime": {
     "end_time": "2024-11-20T07:23:52.447452Z",
     "start_time": "2024-11-20T07:23:52.436673Z"
    }
   },
   "cell_type": "code",
   "source": [
    "# Extract posterior samples as a DataFrame\n",
    "posterior = trace_m5_8.posterior.to_dataframe()\n",
    "\n",
    "# Calculate the difference between a[1] (female) and a[2] (male)\n",
    "diff_fm_summary = pd.DataFrame({\n",
    "    \"mean\": [summary.loc[\"a[0]\"][\"mean\"], summary.loc[\"a[1]\"][\"mean\"],  summary.loc[\"a[0]\"][\"mean\"] - summary.loc[\"a[1]\"][\"mean\"]],\n",
    "    \"sd\": [summary.loc[\"a[0]\"][\"sd\"], summary.loc[\"a[1]\"][\"sd\"],  summary.loc[\"a[0]\"][\"sd\"] - summary.loc[\"a[1]\"][\"sd\"]],\n",
    "}, index=[\"a[0]\", \"a[1]\", \"diff_fm\"])\n",
    "\n",
    "# Summarize the posterior distribution\n",
    "diff_fm_summary.head()"
   ],
   "id": "4f91788a4d800336",
   "outputs": [
    {
     "data": {
      "text/plain": [
       "           mean    sd\n",
       "a[0]     134.87  1.64\n",
       "a[1]     142.59  1.80\n",
       "diff_fm   -7.72 -0.16"
      ],
      "text/html": [
       "<div>\n",
       "<style scoped>\n",
       "    .dataframe tbody tr th:only-of-type {\n",
       "        vertical-align: middle;\n",
       "    }\n",
       "\n",
       "    .dataframe tbody tr th {\n",
       "        vertical-align: top;\n",
       "    }\n",
       "\n",
       "    .dataframe thead th {\n",
       "        text-align: right;\n",
       "    }\n",
       "</style>\n",
       "<table border=\"1\" class=\"dataframe\">\n",
       "  <thead>\n",
       "    <tr style=\"text-align: right;\">\n",
       "      <th></th>\n",
       "      <th>mean</th>\n",
       "      <th>sd</th>\n",
       "    </tr>\n",
       "  </thead>\n",
       "  <tbody>\n",
       "    <tr>\n",
       "      <th>a[0]</th>\n",
       "      <td>134.87</td>\n",
       "      <td>1.64</td>\n",
       "    </tr>\n",
       "    <tr>\n",
       "      <th>a[1]</th>\n",
       "      <td>142.59</td>\n",
       "      <td>1.80</td>\n",
       "    </tr>\n",
       "    <tr>\n",
       "      <th>diff_fm</th>\n",
       "      <td>-7.72</td>\n",
       "      <td>-0.16</td>\n",
       "    </tr>\n",
       "  </tbody>\n",
       "</table>\n",
       "</div>"
      ]
     },
     "execution_count": 30,
     "metadata": {},
     "output_type": "execute_result"
    }
   ],
   "execution_count": 30
  },
  {
   "metadata": {},
   "cell_type": "markdown",
   "source": "difference between a female and male in the sample. This kind of calculation is called a **contrast**",
   "id": "2a97459fcc172c4c"
  },
  {
   "metadata": {},
   "cell_type": "markdown",
   "source": [
    "### Many Categories\n",
    "\n",
    "- Binary categories are easy\n",
    "- But when there are more than two categories, the indicator variable approach explodes.\n",
    "- You’ll need a new indicator variable for each new category"
   ],
   "id": "1628683c685a85c4"
  },
  {
   "metadata": {
    "ExecuteTime": {
     "end_time": "2024-11-20T12:46:00.926879Z",
     "start_time": "2024-11-20T12:46:00.588077Z"
    }
   },
   "cell_type": "code",
   "source": [
    "df_milk = pd.read_csv(\"milk.csv\")\n",
    "\n",
    "# Display the structure of the dataset\n",
    "print(df_milk.info())\n",
    "\n",
    "# Optionally display a preview of the dataset\n",
    "df_milk.head()"
   ],
   "id": "85210efe1e22137e",
   "outputs": [
    {
     "name": "stdout",
     "output_type": "stream",
     "text": [
      "<class 'pandas.core.frame.DataFrame'>\n",
      "RangeIndex: 29 entries, 0 to 28\n",
      "Data columns (total 9 columns):\n",
      " #   Column          Non-Null Count  Dtype  \n",
      "---  ------          --------------  -----  \n",
      " 0   Unnamed: 0      29 non-null     int64  \n",
      " 1   clade           29 non-null     object \n",
      " 2   species         29 non-null     object \n",
      " 3   kcal.per.g      29 non-null     float64\n",
      " 4   perc.fat        29 non-null     float64\n",
      " 5   perc.protein    29 non-null     float64\n",
      " 6   perc.lactose    29 non-null     float64\n",
      " 7   mass            29 non-null     float64\n",
      " 8   neocortex.perc  17 non-null     float64\n",
      "dtypes: float64(6), int64(1), object(2)\n",
      "memory usage: 2.2+ KB\n",
      "None\n"
     ]
    },
    {
     "data": {
      "text/plain": [
       "   Unnamed: 0          clade         species  kcal.per.g  perc.fat  \\\n",
       "0           1  Strepsirrhine  Eulemur fulvus        0.49     16.60   \n",
       "1           2  Strepsirrhine        E macaco        0.51     19.27   \n",
       "2           3  Strepsirrhine        E mongoz        0.46     14.11   \n",
       "3           4  Strepsirrhine   E rubriventer        0.48     14.91   \n",
       "4           5  Strepsirrhine     Lemur catta        0.60     27.28   \n",
       "\n",
       "   perc.protein  perc.lactose  mass  neocortex.perc  \n",
       "0         15.42         67.98  1.95           55.16  \n",
       "1         16.91         63.82  2.09             NaN  \n",
       "2         16.85         69.04  2.51             NaN  \n",
       "3         13.18         71.91  1.62             NaN  \n",
       "4         19.50         53.22  2.19             NaN  "
      ],
      "text/html": [
       "<div>\n",
       "<style scoped>\n",
       "    .dataframe tbody tr th:only-of-type {\n",
       "        vertical-align: middle;\n",
       "    }\n",
       "\n",
       "    .dataframe tbody tr th {\n",
       "        vertical-align: top;\n",
       "    }\n",
       "\n",
       "    .dataframe thead th {\n",
       "        text-align: right;\n",
       "    }\n",
       "</style>\n",
       "<table border=\"1\" class=\"dataframe\">\n",
       "  <thead>\n",
       "    <tr style=\"text-align: right;\">\n",
       "      <th></th>\n",
       "      <th>Unnamed: 0</th>\n",
       "      <th>clade</th>\n",
       "      <th>species</th>\n",
       "      <th>kcal.per.g</th>\n",
       "      <th>perc.fat</th>\n",
       "      <th>perc.protein</th>\n",
       "      <th>perc.lactose</th>\n",
       "      <th>mass</th>\n",
       "      <th>neocortex.perc</th>\n",
       "    </tr>\n",
       "  </thead>\n",
       "  <tbody>\n",
       "    <tr>\n",
       "      <th>0</th>\n",
       "      <td>1</td>\n",
       "      <td>Strepsirrhine</td>\n",
       "      <td>Eulemur fulvus</td>\n",
       "      <td>0.49</td>\n",
       "      <td>16.60</td>\n",
       "      <td>15.42</td>\n",
       "      <td>67.98</td>\n",
       "      <td>1.95</td>\n",
       "      <td>55.16</td>\n",
       "    </tr>\n",
       "    <tr>\n",
       "      <th>1</th>\n",
       "      <td>2</td>\n",
       "      <td>Strepsirrhine</td>\n",
       "      <td>E macaco</td>\n",
       "      <td>0.51</td>\n",
       "      <td>19.27</td>\n",
       "      <td>16.91</td>\n",
       "      <td>63.82</td>\n",
       "      <td>2.09</td>\n",
       "      <td>NaN</td>\n",
       "    </tr>\n",
       "    <tr>\n",
       "      <th>2</th>\n",
       "      <td>3</td>\n",
       "      <td>Strepsirrhine</td>\n",
       "      <td>E mongoz</td>\n",
       "      <td>0.46</td>\n",
       "      <td>14.11</td>\n",
       "      <td>16.85</td>\n",
       "      <td>69.04</td>\n",
       "      <td>2.51</td>\n",
       "      <td>NaN</td>\n",
       "    </tr>\n",
       "    <tr>\n",
       "      <th>3</th>\n",
       "      <td>4</td>\n",
       "      <td>Strepsirrhine</td>\n",
       "      <td>E rubriventer</td>\n",
       "      <td>0.48</td>\n",
       "      <td>14.91</td>\n",
       "      <td>13.18</td>\n",
       "      <td>71.91</td>\n",
       "      <td>1.62</td>\n",
       "      <td>NaN</td>\n",
       "    </tr>\n",
       "    <tr>\n",
       "      <th>4</th>\n",
       "      <td>5</td>\n",
       "      <td>Strepsirrhine</td>\n",
       "      <td>Lemur catta</td>\n",
       "      <td>0.60</td>\n",
       "      <td>27.28</td>\n",
       "      <td>19.50</td>\n",
       "      <td>53.22</td>\n",
       "      <td>2.19</td>\n",
       "      <td>NaN</td>\n",
       "    </tr>\n",
       "  </tbody>\n",
       "</table>\n",
       "</div>"
      ]
     },
     "execution_count": 31,
     "metadata": {},
     "output_type": "execute_result"
    }
   ],
   "execution_count": 31
  },
  {
   "metadata": {
    "ExecuteTime": {
     "end_time": "2024-11-20T12:46:25.242946Z",
     "start_time": "2024-11-20T12:46:25.230966Z"
    }
   },
   "cell_type": "code",
   "source": "df_milk[\"clade\"].unique()",
   "id": "2dddf86522bfedec",
   "outputs": [
    {
     "data": {
      "text/plain": [
       "array(['Strepsirrhine', 'New World Monkey', 'Old World Monkey', 'Ape'],\n",
       "      dtype=object)"
      ]
     },
     "execution_count": 32,
     "metadata": {},
     "output_type": "execute_result"
    }
   ],
   "execution_count": 32
  },
  {
   "metadata": {},
   "cell_type": "markdown",
   "source": "### Convert the clade category to an int value",
   "id": "78010cb49a4d76de"
  },
  {
   "metadata": {
    "ExecuteTime": {
     "end_time": "2024-11-20T12:49:54.106777Z",
     "start_time": "2024-11-20T12:49:54.090171Z"
    }
   },
   "cell_type": "code",
   "source": [
    "# Ensure 'clade' is treated as a categorical variable\n",
    "df_milk[\"clade\"] = df_milk[\"clade\"].astype(\"category\")\n",
    "\n",
    "# Convert 'clade' to integer IDs\n",
    "df_milk[\"clade_id\"] = df_milk[\"clade\"].cat.codes + 1  # Adding 1 to match R's 1-based indexing\n",
    "\n",
    "df_milk.head()"
   ],
   "id": "1734546108c63126",
   "outputs": [
    {
     "data": {
      "text/plain": [
       "   Unnamed: 0          clade         species  kcal.per.g  perc.fat  \\\n",
       "0           1  Strepsirrhine  Eulemur fulvus        0.49     16.60   \n",
       "1           2  Strepsirrhine        E macaco        0.51     19.27   \n",
       "2           3  Strepsirrhine        E mongoz        0.46     14.11   \n",
       "3           4  Strepsirrhine   E rubriventer        0.48     14.91   \n",
       "4           5  Strepsirrhine     Lemur catta        0.60     27.28   \n",
       "\n",
       "   perc.protein  perc.lactose  mass  neocortex.perc  clade_id  \n",
       "0         15.42         67.98  1.95           55.16         4  \n",
       "1         16.91         63.82  2.09             NaN         4  \n",
       "2         16.85         69.04  2.51             NaN         4  \n",
       "3         13.18         71.91  1.62             NaN         4  \n",
       "4         19.50         53.22  2.19             NaN         4  "
      ],
      "text/html": [
       "<div>\n",
       "<style scoped>\n",
       "    .dataframe tbody tr th:only-of-type {\n",
       "        vertical-align: middle;\n",
       "    }\n",
       "\n",
       "    .dataframe tbody tr th {\n",
       "        vertical-align: top;\n",
       "    }\n",
       "\n",
       "    .dataframe thead th {\n",
       "        text-align: right;\n",
       "    }\n",
       "</style>\n",
       "<table border=\"1\" class=\"dataframe\">\n",
       "  <thead>\n",
       "    <tr style=\"text-align: right;\">\n",
       "      <th></th>\n",
       "      <th>Unnamed: 0</th>\n",
       "      <th>clade</th>\n",
       "      <th>species</th>\n",
       "      <th>kcal.per.g</th>\n",
       "      <th>perc.fat</th>\n",
       "      <th>perc.protein</th>\n",
       "      <th>perc.lactose</th>\n",
       "      <th>mass</th>\n",
       "      <th>neocortex.perc</th>\n",
       "      <th>clade_id</th>\n",
       "    </tr>\n",
       "  </thead>\n",
       "  <tbody>\n",
       "    <tr>\n",
       "      <th>0</th>\n",
       "      <td>1</td>\n",
       "      <td>Strepsirrhine</td>\n",
       "      <td>Eulemur fulvus</td>\n",
       "      <td>0.49</td>\n",
       "      <td>16.60</td>\n",
       "      <td>15.42</td>\n",
       "      <td>67.98</td>\n",
       "      <td>1.95</td>\n",
       "      <td>55.16</td>\n",
       "      <td>4</td>\n",
       "    </tr>\n",
       "    <tr>\n",
       "      <th>1</th>\n",
       "      <td>2</td>\n",
       "      <td>Strepsirrhine</td>\n",
       "      <td>E macaco</td>\n",
       "      <td>0.51</td>\n",
       "      <td>19.27</td>\n",
       "      <td>16.91</td>\n",
       "      <td>63.82</td>\n",
       "      <td>2.09</td>\n",
       "      <td>NaN</td>\n",
       "      <td>4</td>\n",
       "    </tr>\n",
       "    <tr>\n",
       "      <th>2</th>\n",
       "      <td>3</td>\n",
       "      <td>Strepsirrhine</td>\n",
       "      <td>E mongoz</td>\n",
       "      <td>0.46</td>\n",
       "      <td>14.11</td>\n",
       "      <td>16.85</td>\n",
       "      <td>69.04</td>\n",
       "      <td>2.51</td>\n",
       "      <td>NaN</td>\n",
       "      <td>4</td>\n",
       "    </tr>\n",
       "    <tr>\n",
       "      <th>3</th>\n",
       "      <td>4</td>\n",
       "      <td>Strepsirrhine</td>\n",
       "      <td>E rubriventer</td>\n",
       "      <td>0.48</td>\n",
       "      <td>14.91</td>\n",
       "      <td>13.18</td>\n",
       "      <td>71.91</td>\n",
       "      <td>1.62</td>\n",
       "      <td>NaN</td>\n",
       "      <td>4</td>\n",
       "    </tr>\n",
       "    <tr>\n",
       "      <th>4</th>\n",
       "      <td>5</td>\n",
       "      <td>Strepsirrhine</td>\n",
       "      <td>Lemur catta</td>\n",
       "      <td>0.60</td>\n",
       "      <td>27.28</td>\n",
       "      <td>19.50</td>\n",
       "      <td>53.22</td>\n",
       "      <td>2.19</td>\n",
       "      <td>NaN</td>\n",
       "      <td>4</td>\n",
       "    </tr>\n",
       "  </tbody>\n",
       "</table>\n",
       "</div>"
      ]
     },
     "execution_count": 36,
     "metadata": {},
     "output_type": "execute_result"
    }
   ],
   "execution_count": 36
  },
  {
   "metadata": {
    "ExecuteTime": {
     "end_time": "2024-11-20T13:08:50.081542Z",
     "start_time": "2024-11-20T13:08:17.972591Z"
    }
   },
   "cell_type": "code",
   "source": [
    "# Assuming 'd' is a pandas DataFrame and 'clade' is already categorical\n",
    "# Standardize the 'kcal.per.g' column\n",
    "df_milk[\"K\"] = (df_milk[\"kcal.per.g\"] - df_milk[\"kcal.per.g\"].mean()) / df_milk[\"kcal.per.g\"].std()\n",
    "\n",
    "# Ensure 'clade' is categorical and create clade_id\n",
    "df_milk[\"clade\"] = df_milk[\"clade\"].astype(\"category\")\n",
    "df_milk[\"clade_id\"] = df_milk[\"clade\"].cat.codes  # 0-based indexing for PyMC\n",
    "\n",
    "# Define the model\n",
    "with pm.Model() as model_m5_9:\n",
    "    # Priors\n",
    "    a = pm.Normal(\"a\", mu=0, sigma=0.5, shape=len(df_milk[\"clade\"].cat.categories))  # Group-specific intercepts\n",
    "    sigma = pm.Exponential(\"sigma\", lam=1)  # Standard deviation\n",
    "\n",
    "    # Likelihood\n",
    "    mu = a[df_milk[\"clade_id\"]]  # Index a by clade_id\n",
    "    K_obs = pm.Normal(\"K\", mu=mu, sigma=sigma, observed=df_milk[\"K\"])\n",
    "\n",
    "    # Sampling\n",
    "    trace_m5_9 = pm.sample(1000, return_inferencedata=True)\n",
    "\n",
    "# Generate summary\n",
    "summary = az.summary(trace_m5_9, var_names=[\"a\"], round_to=2)\n",
    "summary"
   ],
   "id": "1cb3785045cb71da",
   "outputs": [
    {
     "name": "stderr",
     "output_type": "stream",
     "text": [
      "Auto-assigning NUTS sampler...\n",
      "Initializing NUTS using jitter+adapt_diag...\n",
      "Multiprocess sampling (4 chains in 4 jobs)\n",
      "NUTS: [a, sigma]\n"
     ]
    },
    {
     "data": {
      "text/plain": [
       "C:\\git\\sagemaker_job_tracking\\.venv\\Lib\\site-packages\\rich\\live.py:231: UserWarning: install \"ipywidgets\" for \n",
       "Jupyter support\n",
       "  warnings.warn('install \"ipywidgets\" for Jupyter support')\n"
      ],
      "text/html": [
       "<pre style=\"white-space:pre;overflow-x:auto;line-height:normal;font-family:Menlo,'DejaVu Sans Mono',consolas,'Courier New',monospace\">C:\\git\\sagemaker_job_tracking\\.venv\\Lib\\site-packages\\rich\\live.py:231: UserWarning: install \"ipywidgets\" for \n",
       "Jupyter support\n",
       "  warnings.warn('install \"ipywidgets\" for Jupyter support')\n",
       "</pre>\n"
      ]
     },
     "metadata": {},
     "output_type": "display_data"
    },
    {
     "data": {
      "text/plain": [],
      "text/html": [
       "<pre style=\"white-space:pre;overflow-x:auto;line-height:normal;font-family:Menlo,'DejaVu Sans Mono',consolas,'Courier New',monospace\"></pre>\n"
      ]
     },
     "metadata": {},
     "output_type": "display_data"
    },
    {
     "name": "stderr",
     "output_type": "stream",
     "text": [
      "Sampling 4 chains for 1_000 tune and 1_000 draw iterations (4_000 + 4_000 draws total) took 30 seconds.\n"
     ]
    },
    {
     "data": {
      "text/plain": [
       "      mean    sd  hdi_3%  hdi_97%  mcse_mean  mcse_sd  ess_bulk  ess_tail  \\\n",
       "a[0] -0.46  0.23   -0.90    -0.04        0.0      0.0   4348.46   3034.07   \n",
       "a[1]  0.35  0.23   -0.10     0.78        0.0      0.0   5016.64   3331.06   \n",
       "a[2]  0.64  0.28    0.12     1.16        0.0      0.0   5165.80   3109.34   \n",
       "a[3] -0.54  0.29   -1.07     0.01        0.0      0.0   4576.45   3300.68   \n",
       "\n",
       "      r_hat  \n",
       "a[0]    1.0  \n",
       "a[1]    1.0  \n",
       "a[2]    1.0  \n",
       "a[3]    1.0  "
      ],
      "text/html": [
       "<div>\n",
       "<style scoped>\n",
       "    .dataframe tbody tr th:only-of-type {\n",
       "        vertical-align: middle;\n",
       "    }\n",
       "\n",
       "    .dataframe tbody tr th {\n",
       "        vertical-align: top;\n",
       "    }\n",
       "\n",
       "    .dataframe thead th {\n",
       "        text-align: right;\n",
       "    }\n",
       "</style>\n",
       "<table border=\"1\" class=\"dataframe\">\n",
       "  <thead>\n",
       "    <tr style=\"text-align: right;\">\n",
       "      <th></th>\n",
       "      <th>mean</th>\n",
       "      <th>sd</th>\n",
       "      <th>hdi_3%</th>\n",
       "      <th>hdi_97%</th>\n",
       "      <th>mcse_mean</th>\n",
       "      <th>mcse_sd</th>\n",
       "      <th>ess_bulk</th>\n",
       "      <th>ess_tail</th>\n",
       "      <th>r_hat</th>\n",
       "    </tr>\n",
       "  </thead>\n",
       "  <tbody>\n",
       "    <tr>\n",
       "      <th>a[0]</th>\n",
       "      <td>-0.46</td>\n",
       "      <td>0.23</td>\n",
       "      <td>-0.90</td>\n",
       "      <td>-0.04</td>\n",
       "      <td>0.0</td>\n",
       "      <td>0.0</td>\n",
       "      <td>4348.46</td>\n",
       "      <td>3034.07</td>\n",
       "      <td>1.0</td>\n",
       "    </tr>\n",
       "    <tr>\n",
       "      <th>a[1]</th>\n",
       "      <td>0.35</td>\n",
       "      <td>0.23</td>\n",
       "      <td>-0.10</td>\n",
       "      <td>0.78</td>\n",
       "      <td>0.0</td>\n",
       "      <td>0.0</td>\n",
       "      <td>5016.64</td>\n",
       "      <td>3331.06</td>\n",
       "      <td>1.0</td>\n",
       "    </tr>\n",
       "    <tr>\n",
       "      <th>a[2]</th>\n",
       "      <td>0.64</td>\n",
       "      <td>0.28</td>\n",
       "      <td>0.12</td>\n",
       "      <td>1.16</td>\n",
       "      <td>0.0</td>\n",
       "      <td>0.0</td>\n",
       "      <td>5165.80</td>\n",
       "      <td>3109.34</td>\n",
       "      <td>1.0</td>\n",
       "    </tr>\n",
       "    <tr>\n",
       "      <th>a[3]</th>\n",
       "      <td>-0.54</td>\n",
       "      <td>0.29</td>\n",
       "      <td>-1.07</td>\n",
       "      <td>0.01</td>\n",
       "      <td>0.0</td>\n",
       "      <td>0.0</td>\n",
       "      <td>4576.45</td>\n",
       "      <td>3300.68</td>\n",
       "      <td>1.0</td>\n",
       "    </tr>\n",
       "  </tbody>\n",
       "</table>\n",
       "</div>"
      ]
     },
     "execution_count": 40,
     "metadata": {},
     "output_type": "execute_result"
    }
   ],
   "execution_count": 40
  },
  {
   "metadata": {},
   "cell_type": "markdown",
   "source": "Remember, K is the standardized kilocalories. I widened the prior on α a little, to allow the different clades to disperse, if the data wants them to",
   "id": "e80d6546506e7a7d"
  },
  {
   "metadata": {
    "ExecuteTime": {
     "end_time": "2024-11-20T14:23:04.855669Z",
     "start_time": "2024-11-20T14:23:04.730160Z"
    }
   },
   "cell_type": "code",
   "source": [
    "# Labels for the plot\n",
    "labels = [f\"a[{i + 1}]: {clade}\" for i, clade in enumerate(df_milk[\"clade\"].cat.categories)]\n",
    "\n",
    "# Plot posterior summaries\n",
    "az.plot_forest(\n",
    "    trace_m5_9,\n",
    "    var_names=[\"a\"],\n",
    "    combined=True,\n",
    "    hdi_prob=0.95,\n",
    "    kind=\"forestplot\",\n",
    ")\n",
    "\n",
    "plt.xlabel(\"Expected kcal (std)\")\n",
    "plt.yticks(range(len(labels)), labels)\n",
    "plt.show()"
   ],
   "id": "948cf071dfb1cf70",
   "outputs": [
    {
     "data": {
      "text/plain": [
       "<Figure size 600x440 with 1 Axes>"
      ],
      "image/png": "[encoded data removed]"
     },
     "metadata": {},
     "output_type": "display_data"
    }
   ],
   "execution_count": 47
  },
  {
   "metadata": {},
   "cell_type": "markdown",
   "source": [
    "### Add another categorical variable\n",
    "\n",
    "For example, let’s randomly assign these primates to some made\n",
    "up categories: [1] Gryffindor, [2] Hufflepuff, [3] Ravenclaw, and [4] Slytherin"
   ],
   "id": "77d02fd53f1c2cd3"
  },
  {
   "metadata": {
    "ExecuteTime": {
     "end_time": "2024-11-20T13:40:47.466912Z",
     "start_time": "2024-11-20T13:40:47.450548Z"
    }
   },
   "cell_type": "code",
   "source": [
    "# Set seed for reproducibility\n",
    "np.random.seed(63)\n",
    "\n",
    "# Create the 'house' column\n",
    "houses = np.tile(np.arange(1, 5), 8)  # Replicate 1:4 (4 groups) each 8 times\n",
    "df_milk[\"house\"] = np.random.choice(houses, size=len(df_milk), replace=False)\n",
    "\n",
    "# Display the first few rows of the new column\n",
    "print(df_milk[[\"house\"]].head())\n"
   ],
   "id": "b9161fe52ebc6ae4",
   "outputs": [
    {
     "name": "stdout",
     "output_type": "stream",
     "text": [
      "   house\n",
      "0      1\n",
      "1      3\n",
      "2      2\n",
      "3      2\n",
      "4      3\n"
     ]
    }
   ],
   "execution_count": 43
  },
  {
   "metadata": {
    "ExecuteTime": {
     "end_time": "2024-11-20T13:48:57.783565Z",
     "start_time": "2024-11-20T13:46:28.837790Z"
    }
   },
   "cell_type": "code",
   "source": [
    "# Ensure 'house' is also categorical and create house_id\n",
    "df_milk[\"house\"] = df_milk[\"house\"].astype(\"category\")\n",
    "df_milk[\"house_id\"] = df_milk[\"house\"].cat.codes  # Convert to 0-based indexing\n",
    "\n",
    "# Define the model\n",
    "with pm.Model() as model_m5_10:\n",
    "    # Priors for clade and house group effects\n",
    "    a = pm.Normal(\"a\", mu=0, sigma=0.5, shape=len(df_milk[\"clade\"].cat.categories))  # Group-level intercept for clade\n",
    "    h = pm.Normal(\"h\", mu=0, sigma=0.5, shape=len(df_milk[\"house\"].cat.categories))  # Group-level intercept for house\n",
    "\n",
    "    # Prior for sigma\n",
    "    sigma = pm.Exponential(\"sigma\", lam=1)  # Prior for standard deviation\n",
    "\n",
    "    # Expected value of K\n",
    "    mu = a[df_milk[\"clade_id\"]] + h[df_milk[\"house_id\"]]  # Combine clade and house effects\n",
    "\n",
    "    # Likelihood\n",
    "    K_obs = pm.Normal(\"K\", mu=mu, sigma=sigma, observed=df_milk[\"K\"])\n",
    "\n",
    "    # Sampling\n",
    "    trace_m5_10 = pm.sample(1000, return_inferencedata=True)\n",
    "\n",
    "# Summarize the model\n",
    "summary = az.summary(trace_m5_10, var_names=[\"a\", \"h\", \"sigma\"], round_to=2)\n",
    "summary\n"
   ],
   "id": "bfa2bd214478bb9d",
   "outputs": [
    {
     "name": "stderr",
     "output_type": "stream",
     "text": [
      "Auto-assigning NUTS sampler...\n",
      "Initializing NUTS using jitter+adapt_diag...\n",
      "Multiprocess sampling (4 chains in 4 jobs)\n",
      "NUTS: [a, h, sigma]\n"
     ]
    },
    {
     "data": {
      "text/plain": [
       "C:\\git\\sagemaker_job_tracking\\.venv\\Lib\\site-packages\\rich\\live.py:231: UserWarning: install \"ipywidgets\" for \n",
       "Jupyter support\n",
       "  warnings.warn('install \"ipywidgets\" for Jupyter support')\n"
      ],
      "text/html": [
       "<pre style=\"white-space:pre;overflow-x:auto;line-height:normal;font-family:Menlo,'DejaVu Sans Mono',consolas,'Courier New',monospace\">C:\\git\\sagemaker_job_tracking\\.venv\\Lib\\site-packages\\rich\\live.py:231: UserWarning: install \"ipywidgets\" for \n",
       "Jupyter support\n",
       "  warnings.warn('install \"ipywidgets\" for Jupyter support')\n",
       "</pre>\n"
      ]
     },
     "metadata": {},
     "output_type": "display_data"
    },
    {
     "data": {
      "text/plain": [],
      "text/html": [
       "<pre style=\"white-space:pre;overflow-x:auto;line-height:normal;font-family:Menlo,'DejaVu Sans Mono',consolas,'Courier New',monospace\"></pre>\n"
      ]
     },
     "metadata": {},
     "output_type": "display_data"
    },
    {
     "name": "stderr",
     "output_type": "stream",
     "text": [
      "Sampling 4 chains for 1_000 tune and 1_000 draw iterations (4_000 + 4_000 draws total) took 145 seconds.\n"
     ]
    },
    {
     "data": {
      "text/plain": [
       "       mean    sd  hdi_3%  hdi_97%  mcse_mean  mcse_sd  ess_bulk  ess_tail  \\\n",
       "a[0]  -0.61  0.28   -1.10    -0.05       0.01      0.0   2977.66   3332.03   \n",
       "a[1]   0.34  0.27   -0.13     0.86       0.01      0.0   2744.86   2810.63   \n",
       "a[2]   0.79  0.31    0.21     1.36       0.01      0.0   2992.11   2893.69   \n",
       "a[3]  -0.55  0.30   -1.10     0.07       0.00      0.0   3989.98   3062.22   \n",
       "h[0]  -0.52  0.28   -1.01     0.06       0.01      0.0   3084.37   3072.59   \n",
       "h[1]  -0.07  0.27   -0.58     0.43       0.00      0.0   3410.24   3200.41   \n",
       "h[2]   0.15  0.28   -0.40     0.64       0.01      0.0   3007.23   3107.12   \n",
       "h[3]   0.41  0.29   -0.14     0.92       0.01      0.0   3016.81   3017.67   \n",
       "sigma  0.69  0.11    0.49     0.91       0.00      0.0   3228.77   2950.77   \n",
       "\n",
       "       r_hat  \n",
       "a[0]     1.0  \n",
       "a[1]     1.0  \n",
       "a[2]     1.0  \n",
       "a[3]     1.0  \n",
       "h[0]     1.0  \n",
       "h[1]     1.0  \n",
       "h[2]     1.0  \n",
       "h[3]     1.0  \n",
       "sigma    1.0  "
      ],
      "text/html": [
       "<div>\n",
       "<style scoped>\n",
       "    .dataframe tbody tr th:only-of-type {\n",
       "        vertical-align: middle;\n",
       "    }\n",
       "\n",
       "    .dataframe tbody tr th {\n",
       "        vertical-align: top;\n",
       "    }\n",
       "\n",
       "    .dataframe thead th {\n",
       "        text-align: right;\n",
       "    }\n",
       "</style>\n",
       "<table border=\"1\" class=\"dataframe\">\n",
       "  <thead>\n",
       "    <tr style=\"text-align: right;\">\n",
       "      <th></th>\n",
       "      <th>mean</th>\n",
       "      <th>sd</th>\n",
       "      <th>hdi_3%</th>\n",
       "      <th>hdi_97%</th>\n",
       "      <th>mcse_mean</th>\n",
       "      <th>mcse_sd</th>\n",
       "      <th>ess_bulk</th>\n",
       "      <th>ess_tail</th>\n",
       "      <th>r_hat</th>\n",
       "    </tr>\n",
       "  </thead>\n",
       "  <tbody>\n",
       "    <tr>\n",
       "      <th>a[0]</th>\n",
       "      <td>-0.61</td>\n",
       "      <td>0.28</td>\n",
       "      <td>-1.10</td>\n",
       "      <td>-0.05</td>\n",
       "      <td>0.01</td>\n",
       "      <td>0.0</td>\n",
       "      <td>2977.66</td>\n",
       "      <td>3332.03</td>\n",
       "      <td>1.0</td>\n",
       "    </tr>\n",
       "    <tr>\n",
       "      <th>a[1]</th>\n",
       "      <td>0.34</td>\n",
       "      <td>0.27</td>\n",
       "      <td>-0.13</td>\n",
       "      <td>0.86</td>\n",
       "      <td>0.01</td>\n",
       "      <td>0.0</td>\n",
       "      <td>2744.86</td>\n",
       "      <td>2810.63</td>\n",
       "      <td>1.0</td>\n",
       "    </tr>\n",
       "    <tr>\n",
       "      <th>a[2]</th>\n",
       "      <td>0.79</td>\n",
       "      <td>0.31</td>\n",
       "      <td>0.21</td>\n",
       "      <td>1.36</td>\n",
       "      <td>0.01</td>\n",
       "      <td>0.0</td>\n",
       "      <td>2992.11</td>\n",
       "      <td>2893.69</td>\n",
       "      <td>1.0</td>\n",
       "    </tr>\n",
       "    <tr>\n",
       "      <th>a[3]</th>\n",
       "      <td>-0.55</td>\n",
       "      <td>0.30</td>\n",
       "      <td>-1.10</td>\n",
       "      <td>0.07</td>\n",
       "      <td>0.00</td>\n",
       "      <td>0.0</td>\n",
       "      <td>3989.98</td>\n",
       "      <td>3062.22</td>\n",
       "      <td>1.0</td>\n",
       "    </tr>\n",
       "    <tr>\n",
       "      <th>h[0]</th>\n",
       "      <td>-0.52</td>\n",
       "      <td>0.28</td>\n",
       "      <td>-1.01</td>\n",
       "      <td>0.06</td>\n",
       "      <td>0.01</td>\n",
       "      <td>0.0</td>\n",
       "      <td>3084.37</td>\n",
       "      <td>3072.59</td>\n",
       "      <td>1.0</td>\n",
       "    </tr>\n",
       "    <tr>\n",
       "      <th>h[1]</th>\n",
       "      <td>-0.07</td>\n",
       "      <td>0.27</td>\n",
       "      <td>-0.58</td>\n",
       "      <td>0.43</td>\n",
       "      <td>0.00</td>\n",
       "      <td>0.0</td>\n",
       "      <td>3410.24</td>\n",
       "      <td>3200.41</td>\n",
       "      <td>1.0</td>\n",
       "    </tr>\n",
       "    <tr>\n",
       "      <th>h[2]</th>\n",
       "      <td>0.15</td>\n",
       "      <td>0.28</td>\n",
       "      <td>-0.40</td>\n",
       "      <td>0.64</td>\n",
       "      <td>0.01</td>\n",
       "      <td>0.0</td>\n",
       "      <td>3007.23</td>\n",
       "      <td>3107.12</td>\n",
       "      <td>1.0</td>\n",
       "    </tr>\n",
       "    <tr>\n",
       "      <th>h[3]</th>\n",
       "      <td>0.41</td>\n",
       "      <td>0.29</td>\n",
       "      <td>-0.14</td>\n",
       "      <td>0.92</td>\n",
       "      <td>0.01</td>\n",
       "      <td>0.0</td>\n",
       "      <td>3016.81</td>\n",
       "      <td>3017.67</td>\n",
       "      <td>1.0</td>\n",
       "    </tr>\n",
       "    <tr>\n",
       "      <th>sigma</th>\n",
       "      <td>0.69</td>\n",
       "      <td>0.11</td>\n",
       "      <td>0.49</td>\n",
       "      <td>0.91</td>\n",
       "      <td>0.00</td>\n",
       "      <td>0.0</td>\n",
       "      <td>3228.77</td>\n",
       "      <td>2950.77</td>\n",
       "      <td>1.0</td>\n",
       "    </tr>\n",
       "  </tbody>\n",
       "</table>\n",
       "</div>"
      ]
     },
     "execution_count": 45,
     "metadata": {},
     "output_type": "execute_result"
    }
   ],
   "execution_count": 45
  },
  {
   "metadata": {
    "ExecuteTime": {
     "end_time": "2024-11-20T13:50:07.552674Z",
     "start_time": "2024-11-20T13:50:07.457531Z"
    }
   },
   "cell_type": "code",
   "source": [
    "# Labels for the plot\n",
    "labels = [f\"a[{i + 1}]: {house}\" for i, house in enumerate(df_milk[\"house\"].cat.categories)]\n",
    "\n",
    "# Plot posterior summaries\n",
    "az.plot_forest(\n",
    "    trace_m5_9,\n",
    "    var_names=[\"a\"],\n",
    "    combined=True,\n",
    "    hdi_prob=0.95,\n",
    "    kind=\"forestplot\",\n",
    ")\n",
    "\n",
    "plt.xlabel(\"Expected kcal (std)\")\n",
    "plt.yticks(range(len(labels)), labels)\n",
    "plt.show()"
   ],
   "id": "e388a21c7f95d8b8",
   "outputs": [
    {
     "data": {
      "text/plain": [
       "<Figure size 600x440 with 1 Axes>"
      ],
      "image/png": "[encoded data removed]"
     },
     "metadata": {},
     "output_type": "display_data"
    }
   ],
   "execution_count": 46
  }
 ],
 "metadata": {
  "kernelspec": {
   "display_name": "Python 3",
   "language": "python",
   "name": "python3"
  },
  "language_info": {
   "codemirror_mode": {
    "name": "ipython",
    "version": 2
   },
   "file_extension": ".py",
   "mimetype": "text/x-python",
   "name": "python",
   "nbconvert_exporter": "python",
   "pygments_lexer": "ipython2",
   "version": "2.7.6"
  }
 },
 "nbformat": 4,
 "nbformat_minor": 5
}
